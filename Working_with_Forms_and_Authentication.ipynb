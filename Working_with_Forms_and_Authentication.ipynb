{
 "cells": [
  {
   "cell_type": "markdown",
   "metadata": {},
   "source": [
    "# Part 1: Understanding Web Forms and Submitting Data\n",
    "\n",
    "- Identify a target website with a search form. \n",
    "- Choose a website with a public search form (e.g. a movie database).\n",
    "- Inspect the form elements using browser developer tools (F12 or right-click -> Inspect). \n",
    "- Locate the form's action URL, input fields (e.g. name, id) and the method (Get or Post).  "
   ]
  },
  {
   "cell_type": "code",
   "execution_count": 27,
   "metadata": {},
   "outputs": [
    {
     "name": "stdout",
     "output_type": "stream",
     "text": [
      "{\"Title\":\"Inception\",\"Year\":\"2010\",\"Rated\":\"PG-13\",\"Released\":\"16 Jul 2010\",\"Runtime\":\"148 min\",\"Genre\":\"Action, Adventure, Sci-Fi\",\"Director\":\"Christopher Nolan\",\"Writer\":\"Christopher Nolan\",\"Actors\":\"Leonardo DiCaprio, Joseph Gordon-Levitt, Elliot Page\",\"Plot\":\"A thief who steals corporate secrets through the use of dream-sharing technology is given the inverse task of planting an idea into the mind of a C.E.O., but his tragic past may doom the project and his team to disaster.\",\"Language\":\"English, Japanese, French\",\"Country\":\"United States, United Kingdom\",\"Awards\":\"Won 4 Oscars. 159 wins & 220 nominations total\",\"Poster\":\"https://m.media-amazon.com/images/M/MV5BMjAxMzY3NjcxNF5BMl5BanBnXkFtZTcwNTI5OTM0Mw@@._V1_SX300.jpg\",\"Ratings\":[{\"Source\":\"Internet Movie Database\",\"Value\":\"8.8/10\"},{\"Source\":\"Rotten Tomatoes\",\"Value\":\"87%\"},{\"Source\":\"Metacritic\",\"Value\":\"74/100\"}],\"Metascore\":\"74\",\"imdbRating\":\"8.8\",\"imdbVotes\":\"2,581,982\",\"imdbID\":\"tt1375666\",\"Type\":\"movie\",\"DVD\":\"N/A\",\"BoxOffice\":\"$292,587,330\",\"Production\":\"N/A\",\"Website\":\"N/A\",\"Response\":\"True\"}\n"
     ]
    }
   ],
   "source": [
    "import requests\n",
    "\n",
    "# OMDb API URL\n",
    "form_url = 'http://www.omdbapi.com/' # This is the URL to which the form submits the data\n",
    "\n",
    "# Parameters for the API\n",
    "form_data = {\n",
    "    'apikey': '5e3352e7', # own API key\n",
    "    't': 'Inception', # This is the search query on what movie title to search for\n",
    "}\n",
    "\n",
    "# Send request to the OMDb API\n",
    "response = requests.get(form_url, params=form_data) # Submit the form using GET request since the OMDb uses GET as method\n",
    "\n",
    "# Check the response\n",
    "print(response.text) "
   ]
  },
  {
   "cell_type": "markdown",
   "metadata": {},
   "source": [
    "**form_url** - This should match the action attribute of the form you're submitting data to. In this case, I uses API to which the form submits the data.<br>\n",
    "**form_data** - The dictionary where the keys are the name attributes of the input fields in the form, and the values are the data you're submitting. In this case, I uses my own API key that I get from OMDb API and then the search query is passed on 't' field. <br>\n",
    "**requests.get** - Submits a get request to the server with the form data. <br>\n",
    "**response.text** - Contains the HTML response from the server. </p>"
   ]
  },
  {
   "cell_type": "markdown",
   "metadata": {},
   "source": [
    "# Part 2: Handling Login Pages and Sessions\n",
    "\n",
    "- Identify Login Form Elements \n",
    "- Use browser developer tools to inspect the login form\n",
    "- Note down the form's action URL and input field names for username, password, and any hidden fields "
   ]
  },
  {
   "cell_type": "code",
   "execution_count": 33,
   "metadata": {},
   "outputs": [
    {
     "name": "stdout",
     "output_type": "stream",
     "text": [
      "Login failed.\n"
     ]
    }
   ],
   "source": [
    "import requests\n",
    "\n",
    "# Start a session \n",
    "session = requests.Session()\n",
    "\n",
    "# Login URL \n",
    "login_url = 'https://the-internet.herokuapp.com/login'\n",
    "\n",
    "# Login data \n",
    "login_data = {\n",
    "    'username': 'tomsmith', \n",
    "    'password': 'SuperSecretPassword!',\n",
    "    'submit': 'Login'\n",
    "}\n",
    "\n",
    "# Perform login\n",
    "login_response = session.post(login_url, data=login_data)\n",
    "\n",
    "# Check login success\n",
    "if 'Logout' in login_response.text:\n",
    "    print('Login successful!')\n",
    "else: \n",
    "    print('Login failed.')"
   ]
  },
  {
   "cell_type": "markdown",
   "metadata": {},
   "source": [
    "The *https://the-internet.herokuapp.com/login* was built to practice Selenium and web scraping techniques. "
   ]
  },
  {
   "cell_type": "code",
   "execution_count": 32,
   "metadata": {},
   "outputs": [
    {
     "name": "stdout",
     "output_type": "stream",
     "text": [
      "Login successful!\n"
     ]
    }
   ],
   "source": [
    "import requests\n",
    "\n",
    "# Start session\n",
    "session = requests.Session()\n",
    "\n",
    "# Login URL (httpbin's basic auth endpoint)\n",
    "login_url = 'https://httpbin.org/basic-auth/user/passwd'\n",
    "\n",
    "# Provide basic auth credentials\n",
    "session.auth = ('user', 'passwd')\n",
    "\n",
    "# Perform login\n",
    "response = session.get(login_url)\n",
    "\n",
    "if response.status_code == 200:\n",
    "    print('Login successful!')\n",
    "else:\n",
    "    print('Login failed.')"
   ]
  },
  {
   "cell_type": "markdown",
   "metadata": {},
   "source": [
    "The *httpbin* is a testing service designed for practicing HTTP requests. It provides endpoints to test GET requests, login forms, and more. <br>\n",
    "You can create a mock login request to the /get or /basic-auth endpoints. "
   ]
  },
  {
   "cell_type": "markdown",
   "metadata": {},
   "source": [
    "# Part 3: Scraping Data Behind a Login\n",
    "- Access pages requiring authentication\n",
    "- Use the authenticated session to access a protected page\n",
    "- Handling common issues \n",
    "- Discuss how to deal with common issues like CSRF tokens, JavaScript-rendered pages, and headers. "
   ]
  },
  {
   "cell_type": "code",
   "execution_count": 38,
   "metadata": {},
   "outputs": [
    {
     "name": "stdout",
     "output_type": "stream",
     "text": [
      "Login failed.\n"
     ]
    }
   ],
   "source": [
    "import requests\n",
    "from bs4 import BeautifulSoup\n",
    "\n",
    "# Start a session\n",
    "session = requests.Session()\n",
    "\n",
    "# Headers to mimic a real browser\n",
    "headers = {\n",
    "    'User-Agent': 'Mozilla/5.0 (Windows NT 10.0; Win64; x64) AppleWebKit/537.36 (KHTML, like Gecko) Chrome/85.0.4183.102 Safari/537.36',\n",
    "    'Referer': 'https://the-internet.herokuapp.com/login',\n",
    "    'Accept': 'text/html,application/xhtml+xml,application/xml;q=0.9,image/webp,*/*;q=0.8',\n",
    "    'Accept-Language': 'en-US,en;q=0.5',\n",
    "    'Accept-Encoding': 'gzip, deflate, br',\n",
    "    'Connection': 'keep-alive'\n",
    "}\n",
    "\n",
    "# Login URL and protected page URL\n",
    "login_url = 'https://the-internet.herokuapp.com/login'\n",
    "protected_url = 'https://the-internet.herokuapp.com/secure'\n",
    "\n",
    "# Login credentials\n",
    "login_data = {\n",
    "    'username': 'tomsmith',\n",
    "    'password': 'SuperSecretPassword!'\n",
    "}\n",
    "\n",
    "# Perform login with headers\n",
    "login_response = session.post(login_url, data=login_data, headers=headers)\n",
    "\n",
    "# Check if login was successful by looking for the 'Logout' link\n",
    "if 'Logout' in login_response.text:\n",
    "    print(\"Login successful!\")\n",
    "\n",
    "    # Now, access the protected page using the same headers\n",
    "    protected_response = session.get(protected_url, headers=headers)\n",
    "\n",
    "    # Parse the protected page using BeautifulSoup\n",
    "    soup = BeautifulSoup(protected_response.content, 'lxml')\n",
    "\n",
    "    # Extract and display data (In this case, secure area message)\n",
    "    secure_message = soup.find('div', class_='flash success').get_text()\n",
    "    print(\"Protected Page Message:\", secure_message)\n",
    "else:\n",
    "    print(\"Login failed.\")\n"
   ]
  },
  {
   "cell_type": "code",
   "execution_count": 35,
   "metadata": {},
   "outputs": [
    {
     "name": "stdout",
     "output_type": "stream",
     "text": [
      "Server Response: {'args': {}, 'data': '', 'files': {}, 'form': {'password': 'password123', 'username': 'testuser'}, 'headers': {'Accept': '*/*', 'Accept-Encoding': 'gzip, deflate', 'Content-Length': '38', 'Content-Type': 'application/x-www-form-urlencoded', 'Host': 'httpbin.org', 'User-Agent': 'python-requests/2.31.0', 'X-Amzn-Trace-Id': 'Root=1-66e47040-597fd2ee3fb013b76837f705'}, 'json': None, 'origin': '180.191.146.172', 'url': 'https://httpbin.org/post'}\n"
     ]
    }
   ],
   "source": [
    "import requests\n",
    "\n",
    "# Start a session\n",
    "session = requests.Session()\n",
    "\n",
    "# Simulate login with a POST request\n",
    "login_url = 'https://httpbin.org/post'\n",
    "login_data = {\n",
    "    'username': 'testuser',\n",
    "    'password': 'password123'\n",
    "}\n",
    "\n",
    "# Perform the login (simulated as a POST request)\n",
    "login_response = session.post(login_url, data=login_data)\n",
    "\n",
    "# Display the server's response to the login attempt\n",
    "print(\"Server Response:\", login_response.json())\n"
   ]
  }
 ],
 "metadata": {
  "kernelspec": {
   "display_name": "Python 3",
   "language": "python",
   "name": "python3"
  },
  "language_info": {
   "codemirror_mode": {
    "name": "ipython",
    "version": 3
   },
   "file_extension": ".py",
   "mimetype": "text/x-python",
   "name": "python",
   "nbconvert_exporter": "python",
   "pygments_lexer": "ipython3",
   "version": "3.10.7"
  }
 },
 "nbformat": 4,
 "nbformat_minor": 2
}
